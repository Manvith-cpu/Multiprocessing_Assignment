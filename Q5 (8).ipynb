{
 "cells": [
  {
   "cell_type": "code",
   "execution_count": 1,
   "id": "ff47c422-4ff8-4bfa-a54e-d99248b2f495",
   "metadata": {},
   "outputs": [
    {
     "name": "stdout",
     "output_type": "stream",
     "text": [
      "Results: [2, 4, 6, 8, 10]\n"
     ]
    }
   ],
   "source": [
    "import multiprocessing\n",
    "\n",
    "def process_data(data):\n",
    "    return data * 2\n",
    "\n",
    "if __name__ == \"__main__\":\n",
    "    input_data = [1, 2, 3, 4, 5]\n",
    "\n",
    "    num_processes = multiprocessing.cpu_count()\n",
    "    pool = multiprocessing.Pool(processes=num_processes)\n",
    "\n",
    "    results = pool.map(process_data, input_data)\n",
    "\n",
    "    pool.close()\n",
    "\n",
    "    pool.join()\n",
    "\n",
    "    print(\"Results:\", results)\n"
   ]
  }
 ],
 "metadata": {
  "kernelspec": {
   "display_name": "Python 3 (ipykernel)",
   "language": "python",
   "name": "python3"
  },
  "language_info": {
   "codemirror_mode": {
    "name": "ipython",
    "version": 3
   },
   "file_extension": ".py",
   "mimetype": "text/x-python",
   "name": "python",
   "nbconvert_exporter": "python",
   "pygments_lexer": "ipython3",
   "version": "3.10.8"
  }
 },
 "nbformat": 4,
 "nbformat_minor": 5
}
