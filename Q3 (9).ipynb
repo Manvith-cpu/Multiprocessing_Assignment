{
 "cells": [
  {
   "cell_type": "code",
   "execution_count": 1,
   "id": "db0d1c0f-f09f-475e-a738-6efe3a0002ec",
   "metadata": {},
   "outputs": [
    {
     "name": "stdout",
     "output_type": "stream",
     "text": [
      "Square: 100\n",
      "Cube: 1000\n",
      "Done!\n"
     ]
    }
   ],
   "source": [
    "import multiprocessing\n",
    "\n",
    "def print_cube(num):\n",
    "\tprint(\"Cube: {}\".format(num * num * num))\n",
    "\n",
    "def print_square(num):\n",
    "\tprint(\"Square: {}\".format(num * num))\n",
    "\n",
    "if __name__ == \"__main__\":\n",
    "\tp1 = multiprocessing.Process(target=print_square, args=(10, ))\n",
    "\tp2 = multiprocessing.Process(target=print_cube, args=(10, ))\n",
    "\n",
    "\tp1.start()\n",
    "\tp2.start()\n",
    "\n",
    "\tp1.join()\n",
    "\tp2.join()\n",
    "\n",
    "\tprint(\"Done!\")\n"
   ]
  }
 ],
 "metadata": {
  "kernelspec": {
   "display_name": "Python 3 (ipykernel)",
   "language": "python",
   "name": "python3"
  },
  "language_info": {
   "codemirror_mode": {
    "name": "ipython",
    "version": 3
   },
   "file_extension": ".py",
   "mimetype": "text/x-python",
   "name": "python",
   "nbconvert_exporter": "python",
   "pygments_lexer": "ipython3",
   "version": "3.10.8"
  }
 },
 "nbformat": 4,
 "nbformat_minor": 5
}
