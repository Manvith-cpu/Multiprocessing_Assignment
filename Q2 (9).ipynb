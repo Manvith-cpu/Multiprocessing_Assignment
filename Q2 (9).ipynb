{
 "cells": [
  {
   "cell_type": "markdown",
   "id": "731f19f0-d58d-47d6-bdb4-3b23fe180f64",
   "metadata": {},
   "source": [
    "Multiprocessing uses two or more CPUs to increase computing power, whereas multithreading uses a single process with multiple code segments to increase computing power. \n",
    "\n",
    "Multithreading focuses on generating computing threads from a single process, whereas multiprocessing increases computing power by adding CPUs."
   ]
  },
  {
   "cell_type": "markdown",
   "id": "1307c29b-a4fb-46b9-96fe-6ad6959320a0",
   "metadata": {},
   "source": [
    "Multiprocessing is used to create a more reliable system, whereas multithreading is used to create threads that run parallel to each other."
   ]
  },
  {
   "cell_type": "markdown",
   "id": "bbe64f78-5bfd-4612-b9fb-0f5bc2d98c14",
   "metadata": {},
   "source": [
    "multithreading is quick to create and requires few resources, whereas multiprocessing requires a significant amount of time and specific resources to create.\n",
    "\n",
    "Multiprocessing executes many processes simultaneously, whereas multithreading executes many threads simultaneously.\n",
    "\n",
    "Multithreading uses a common address space for all the threads, whereas multiprocessing creates a separate address space for each process."
   ]
  }
 ],
 "metadata": {
  "kernelspec": {
   "display_name": "Python 3 (ipykernel)",
   "language": "python",
   "name": "python3"
  },
  "language_info": {
   "codemirror_mode": {
    "name": "ipython",
    "version": 3
   },
   "file_extension": ".py",
   "mimetype": "text/x-python",
   "name": "python",
   "nbconvert_exporter": "python",
   "pygments_lexer": "ipython3",
   "version": "3.10.8"
  }
 },
 "nbformat": 4,
 "nbformat_minor": 5
}
